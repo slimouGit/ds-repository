{
 "cells": [
  {
   "cell_type": "code",
   "execution_count": 23,
   "metadata": {},
   "outputs": [],
   "source": [
    "import numpy as np\n",
    "np.random.seed(42)\n",
    "from sklearn.datasets import load_iris\n",
    "from scipy.spatial import distance\n",
    "iris = load_iris()"
   ]
  },
  {
   "cell_type": "markdown",
   "metadata": {},
   "source": [
    "# prepare dataset"
   ]
  },
  {
   "cell_type": "code",
   "execution_count": 24,
   "metadata": {},
   "outputs": [],
   "source": [
    "data = iris.data\n",
    "labels = iris.target\n",
    "names = iris.target_names"
   ]
  },
  {
   "cell_type": "markdown",
   "metadata": {},
   "source": [
    "# implement class"
   ]
  },
  {
   "cell_type": "code",
   "execution_count": 25,
   "metadata": {},
   "outputs": [],
   "source": [
    "class KNeighborsClassifier:\n",
    "    def __init__(self, k: int, data: np.ndarray, names: list, labels: np.ndarray, test_data: list):\n",
    "        self.k = k\n",
    "        self.data = data\n",
    "        self.names = names\n",
    "        self.labels = labels\n",
    "        self.test_data = test_data\n",
    "\n",
    "        normalized_data = self.normalizeData()\n",
    "        distances = self.euclideanDistance()\n",
    "        sorted_distances = self.sortDistances(distances)\n",
    "        nNeighbors = self.determineNeighbors(sorted_distances, labels)\n",
    "\n",
    "        print('The {} closest neighbors of searched iris {} are:'.format(self.k, self.test_data))\n",
    "        for name in nNeighbors:\n",
    "            print(\"iris \", names[name])\n",
    "\n",
    "        self.determinePropability(nNeighbors)\n",
    "\n",
    "    def normalizeData(self):\n",
    "        x = self.data\n",
    "        data_min = np.min(x, axis=0)\n",
    "        data_max = np.max(x, axis=0)\n",
    "        x_transformed = (x - data_min) / (data_max - data_min)\n",
    "        return x_transformed\n",
    "\n",
    "    def euclideanDistance(self):\n",
    "        distances = list()\n",
    "        for i in self.data:\n",
    "            distances.append(distance.euclidean(i, self.test_data))\n",
    "        return distances\n",
    "\n",
    "    def sortDistances(self, x:list):\n",
    "        return np.argsort(x)\n",
    "\n",
    "    def determineNeighbors(self, distances: np.ndarray, y: np.ndarray):\n",
    "        targetList = list()\n",
    "        neighbors = distances[0:self.k]\n",
    "        for i in neighbors:\n",
    "            targetList.append(y[i])\n",
    "        return targetList\n",
    "\n",
    "    def determinePropability(self, nNeighbors:list):\n",
    "        amount = len(nNeighbors)\n",
    "        closedNeighbor = nNeighbors[0]\n",
    "        occurrences = nNeighbors.count(closedNeighbor)\n",
    "        propability = occurrences/amount\n",
    "        print('Propability for {} by examine next {} neighbors is {} %'.format(names[closedNeighbor], self.k, propability*100))\n"
   ]
  },
  {
   "cell_type": "markdown",
   "metadata": {},
   "source": [
    "# testing data from exercise"
   ]
  },
  {
   "cell_type": "code",
   "execution_count": 26,
   "metadata": {},
   "outputs": [],
   "source": [
    "test_data = [4.8, 2.5, 5.3, 2.4] #DATA FROM EXERCISE"
   ]
  },
  {
   "cell_type": "code",
   "execution_count": 27,
   "metadata": {},
   "outputs": [
    {
     "name": "stdout",
     "output_type": "stream",
     "text": [
      "The 20 closest neighbors of searched iris [4.8, 2.5, 5.3, 2.4] are:\n",
      "iris  virginica\n",
      "iris  virginica\n",
      "iris  virginica\n",
      "iris  virginica\n",
      "iris  virginica\n",
      "iris  virginica\n",
      "iris  virginica\n",
      "iris  versicolor\n",
      "iris  versicolor\n",
      "iris  virginica\n",
      "iris  versicolor\n",
      "iris  versicolor\n",
      "iris  virginica\n",
      "iris  virginica\n",
      "iris  virginica\n",
      "iris  virginica\n",
      "iris  versicolor\n",
      "iris  versicolor\n",
      "iris  virginica\n",
      "iris  virginica\n",
      "Propability for virginica by examine next 20 neighbors is 70.0 %\n"
     ]
    }
   ],
   "source": [
    "clf = KNeighborsClassifier(20, data, names, labels, test_data)"
   ]
  },
  {
   "cell_type": "markdown",
   "metadata": {},
   "source": [
    "# test further data"
   ]
  },
  {
   "cell_type": "code",
   "execution_count": 28,
   "metadata": {},
   "outputs": [],
   "source": [
    "test_data = [5.2,4.1,1.5,0.1] "
   ]
  },
  {
   "cell_type": "code",
   "execution_count": 29,
   "metadata": {},
   "outputs": [
    {
     "name": "stdout",
     "output_type": "stream",
     "text": [
      "The 20 closest neighbors of searched iris [5.2, 4.1, 1.5, 0.1] are:\n",
      "iris  setosa\n",
      "iris  setosa\n",
      "iris  setosa\n",
      "iris  setosa\n",
      "iris  setosa\n",
      "iris  setosa\n",
      "iris  setosa\n",
      "iris  setosa\n",
      "iris  setosa\n",
      "iris  setosa\n",
      "iris  setosa\n",
      "iris  setosa\n",
      "iris  setosa\n",
      "iris  setosa\n",
      "iris  setosa\n",
      "iris  setosa\n",
      "iris  setosa\n",
      "iris  setosa\n",
      "iris  setosa\n",
      "iris  setosa\n",
      "Propability for setosa by examine next 20 neighbors is 100.0 %\n"
     ]
    }
   ],
   "source": [
    "clf = KNeighborsClassifier(20, data, names, labels, test_data)"
   ]
  },
  {
   "cell_type": "code",
   "execution_count": 30,
   "metadata": {},
   "outputs": [],
   "source": [
    "test_data = [5.2,2.7,3.9,1.4]"
   ]
  },
  {
   "cell_type": "code",
   "execution_count": 31,
   "metadata": {},
   "outputs": [
    {
     "name": "stdout",
     "output_type": "stream",
     "text": [
      "The 20 closest neighbors of searched iris [5.2, 2.7, 3.9, 1.4] are:\n",
      "iris  versicolor\n",
      "iris  versicolor\n",
      "iris  versicolor\n",
      "iris  versicolor\n",
      "iris  versicolor\n",
      "iris  versicolor\n",
      "iris  versicolor\n",
      "iris  versicolor\n",
      "iris  versicolor\n",
      "iris  versicolor\n",
      "iris  versicolor\n",
      "iris  versicolor\n",
      "iris  versicolor\n",
      "iris  versicolor\n",
      "iris  versicolor\n",
      "iris  versicolor\n",
      "iris  versicolor\n",
      "iris  versicolor\n",
      "iris  virginica\n",
      "iris  versicolor\n",
      "Propability for versicolor by examine next 20 neighbors is 95.0 %\n"
     ]
    }
   ],
   "source": [
    "clf = KNeighborsClassifier(20, data, names, labels, test_data)"
   ]
  },
  {
   "cell_type": "code",
   "execution_count": null,
   "metadata": {},
   "outputs": [],
   "source": []
  },
  {
   "cell_type": "code",
   "execution_count": null,
   "metadata": {},
   "outputs": [],
   "source": []
  }
 ],
 "metadata": {
  "kernelspec": {
   "display_name": "Python 3",
   "language": "python",
   "name": "python3"
  },
  "language_info": {
   "codemirror_mode": {
    "name": "ipython",
    "version": 3
   },
   "file_extension": ".py",
   "mimetype": "text/x-python",
   "name": "python",
   "nbconvert_exporter": "python",
   "pygments_lexer": "ipython3",
   "version": "3.6.5"
  }
 },
 "nbformat": 4,
 "nbformat_minor": 1
}