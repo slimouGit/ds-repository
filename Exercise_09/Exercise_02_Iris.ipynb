{
 "cells": [
  {
   "cell_type": "markdown",
   "metadata": {},
   "source": [
    "# prepare exercise"
   ]
  },
  {
   "cell_type": "code",
   "execution_count": 1,
   "metadata": {},
   "outputs": [],
   "source": [
    "from sklearn.datasets import load_iris\n",
    "import numpy as np\n",
    "from sklearn.linear_model import LogisticRegression\n",
    "import matplotlib.pyplot as plt\n",
    "iris = load_iris()"
   ]
  },
  {
   "cell_type": "code",
   "execution_count": 3,
   "metadata": {},
   "outputs": [
    {
     "data": {
      "text/plain": [
       "['data', 'target', 'target_names', 'DESCR', 'feature_names']"
      ]
     },
     "execution_count": 3,
     "metadata": {},
     "output_type": "execute_result"
    }
   ],
   "source": [
    "list(iris.keys())"
   ]
  },
  {
   "cell_type": "code",
   "execution_count": 4,
   "metadata": {},
   "outputs": [
    {
     "name": "stdout",
     "output_type": "stream",
     "text": [
      "['setosa' 'versicolor' 'virginica']\n",
      "[0 0 0 0 0 0 0 0 0 0 0 0 0 0 0 0 0 0 0 0 0 0 0 0 0 0 0 0 0 0 0 0 0 0 0 0 0\n",
      " 0 0 0 0 0 0 0 0 0 0 0 0 0 1 1 1 1 1 1 1 1 1 1 1 1 1 1 1 1 1 1 1 1 1 1 1 1\n",
      " 1 1 1 1 1 1 1 1 1 1 1 1 1 1 1 1 1 1 1 1 1 1 1 1 1 1 2 2 2 2 2 2 2 2 2 2 2\n",
      " 2 2 2 2 2 2 2 2 2 2 2 2 2 2 2 2 2 2 2 2 2 2 2 2 2 2 2 2 2 2 2 2 2 2 2 2 2\n",
      " 2 2]\n",
      "['sepal length (cm)', 'sepal width (cm)', 'petal length (cm)', 'petal width (cm)']\n"
     ]
    }
   ],
   "source": [
    "print(iris.target_names) \n",
    "print(iris.target)\n",
    "print(iris.feature_names) "
   ]
  },
  {
   "cell_type": "code",
   "execution_count": 5,
   "metadata": {},
   "outputs": [],
   "source": [
    "exerciseData = [4.8, 2.5, 5.3, 2.4]\n",
    "#segmenting exerciseData into sepal and petal\n",
    "checkSepal = [ exerciseData[0], exerciseData[1]] \n",
    "checkPetal = [ exerciseData[2], exerciseData[3]] "
   ]
  },
  {
   "cell_type": "markdown",
   "metadata": {},
   "source": [
    "# 1. train modell for sepal prediction"
   ]
  },
  {
   "cell_type": "code",
   "execution_count": 6,
   "metadata": {},
   "outputs": [],
   "source": [
    "X_sepal = iris[\"data\"][:, (0, 1)]  #sepal values from data\n",
    "y_sepal = iris[\"target\"] #target values as numeric value"
   ]
  },
  {
   "cell_type": "code",
   "execution_count": 7,
   "metadata": {},
   "outputs": [
    {
     "data": {
      "text/plain": [
       "LogisticRegression(C=10, class_weight=None, dual=False, fit_intercept=True,\n",
       "          intercept_scaling=1, max_iter=100, multi_class='multinomial',\n",
       "          n_jobs=1, penalty='l2', random_state=0, solver='lbfgs',\n",
       "          tol=0.0001, verbose=0, warm_start=False)"
      ]
     },
     "execution_count": 7,
     "metadata": {},
     "output_type": "execute_result"
    }
   ],
   "source": [
    "sepal_model = LogisticRegression(solver=\"lbfgs\", multi_class=\"multinomial\", C=10, random_state=0)\n",
    "sepal_model.fit(X_sepal,y_sepal)"
   ]
  },
  {
   "cell_type": "markdown",
   "metadata": {},
   "source": [
    "# 1.1 propability for virginica based on sepal"
   ]
  },
  {
   "cell_type": "code",
   "execution_count": 8,
   "metadata": {},
   "outputs": [
    {
     "name": "stdout",
     "output_type": "stream",
     "text": [
      "Sepal based on: [4.8, 2.5] is an iris versicolor => probability:  53.61383 %\n"
     ]
    }
   ],
   "source": [
    "sepalPredict = sepal_model.predict([ checkSepal ])\n",
    "sepalProb = sepal_model.predict_proba([checkSepal])\n",
    "\n",
    "print(\"Sepal based on:\", checkSepal,\n",
    "      \"is an iris\", iris.target_names[sepalPredict][0],\n",
    "      \"=> probability: \", round(sepalProb[0][sepalPredict][0]*100, 5),\n",
    "      \"%\" )"
   ]
  },
  {
   "cell_type": "markdown",
   "metadata": {},
   "source": [
    "# 2. train modell for petal prediction"
   ]
  },
  {
   "cell_type": "code",
   "execution_count": 9,
   "metadata": {},
   "outputs": [],
   "source": [
    "X_petal = iris[\"data\"][:, (2, 3)]  #petal values from data\n",
    "y_petal = iris[\"target\"] "
   ]
  },
  {
   "cell_type": "code",
   "execution_count": 10,
   "metadata": {},
   "outputs": [
    {
     "data": {
      "text/plain": [
       "LogisticRegression(C=10, class_weight=None, dual=False, fit_intercept=True,\n",
       "          intercept_scaling=1, max_iter=100, multi_class='multinomial',\n",
       "          n_jobs=1, penalty='l2', random_state=0, solver='lbfgs',\n",
       "          tol=0.0001, verbose=0, warm_start=False)"
      ]
     },
     "execution_count": 10,
     "metadata": {},
     "output_type": "execute_result"
    }
   ],
   "source": [
    "petal_model = LogisticRegression(solver=\"lbfgs\", multi_class=\"multinomial\", C=10, random_state=0)\n",
    "petal_model.fit(X_petal,y_petal)"
   ]
  },
  {
   "cell_type": "markdown",
   "metadata": {},
   "source": [
    "# 2.1 propability for virginica based on petal"
   ]
  },
  {
   "cell_type": "code",
   "execution_count": 11,
   "metadata": {},
   "outputs": [
    {
     "name": "stdout",
     "output_type": "stream",
     "text": [
      "Petal based on: [5.3, 2.4] is an iris virginica => probability:  99.87688 %\n"
     ]
    }
   ],
   "source": [
    "petalPredict = petal_model.predict([ checkPetal ])\n",
    "petalProb = petal_model.predict_proba([checkPetal])\n",
    "\n",
    "print(\"Petal based on:\", checkPetal,\n",
    "      \"is an iris\", iris.target_names[petalPredict][0],\n",
    "      \"=> probability: \", round(petalProb[0][petalPredict][0]*100, 5),\n",
    "      \"%\" )"
   ]
  },
  {
   "cell_type": "markdown",
   "metadata": {},
   "source": [
    "# 3. evaluate all 4 values in a (combined) equation to get one single probability"
   ]
  },
  {
   "cell_type": "code",
   "execution_count": 12,
   "metadata": {},
   "outputs": [
    {
     "data": {
      "text/plain": [
       "LogisticRegression(C=10, class_weight=None, dual=False, fit_intercept=True,\n",
       "          intercept_scaling=1, max_iter=100, multi_class='multinomial',\n",
       "          n_jobs=1, penalty='l2', random_state=0, solver='lbfgs',\n",
       "          tol=0.0001, verbose=0, warm_start=False)"
      ]
     },
     "execution_count": 12,
     "metadata": {},
     "output_type": "execute_result"
    }
   ],
   "source": [
    "#train modell for prediction with all features\n",
    "all_X = iris[\"data\"]\n",
    "all_y = iris[\"target\"]\n",
    "\n",
    "all_model = LogisticRegression(solver=\"lbfgs\", multi_class=\"multinomial\", C=10, random_state=0)\n",
    "all_model.fit(all_X,all_y)"
   ]
  },
  {
   "cell_type": "code",
   "execution_count": 13,
   "metadata": {},
   "outputs": [],
   "source": [
    "allPredict = all_model.predict([exerciseData])\n",
    "allProb = all_model.predict_proba([exerciseData])"
   ]
  },
  {
   "cell_type": "markdown",
   "metadata": {},
   "source": [
    "# 3.1 propability for virginica based on all features"
   ]
  },
  {
   "cell_type": "code",
   "execution_count": 14,
   "metadata": {},
   "outputs": [
    {
     "name": "stdout",
     "output_type": "stream",
     "text": [
      "all features based on: [4.8, 2.5, 5.3, 2.4] is an iris virginica => probability:  99.99571 %\n"
     ]
    }
   ],
   "source": [
    "print(\"all features based on:\", exerciseData,\n",
    "      \"is an iris\", iris.target_names[allPredict][0],\n",
    "      \"=> probability: \", round(allProb[0][allPredict][0]*100, 5),\n",
    "      \"%\" )"
   ]
  },
  {
   "cell_type": "code",
   "execution_count": null,
   "metadata": {},
   "outputs": [],
   "source": []
  }
 ],
 "metadata": {
  "kernelspec": {
   "display_name": "Python 3",
   "language": "python",
   "name": "python3"
  },
  "language_info": {
   "codemirror_mode": {
    "name": "ipython",
    "version": 3
   },
   "file_extension": ".py",
   "mimetype": "text/x-python",
   "name": "python",
   "nbconvert_exporter": "python",
   "pygments_lexer": "ipython3",
   "version": "3.6.5"
  }
 },
 "nbformat": 4,
 "nbformat_minor": 2
}
